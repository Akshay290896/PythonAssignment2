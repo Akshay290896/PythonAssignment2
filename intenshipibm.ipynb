{
 "cells": [
  {
   "cell_type": "code",
   "execution_count": 14,
   "id": "14ee7ae0",
   "metadata": {},
   "outputs": [
    {
     "name": "stdout",
     "output_type": "stream",
     "text": [
      "Akshay\n",
      "madhu\n",
      "sneha\n"
     ]
    }
   ],
   "source": [
    "#list names\n",
    "list=[\"Akshay\",\"madhu\",\"sneha\"]\n",
    "print(list[0])\n",
    "print(list[1])\n",
    "print(list[2])"
   ]
  },
  {
   "cell_type": "code",
   "execution_count": 21,
   "id": "5f4af5d9",
   "metadata": {},
   "outputs": [
    {
     "name": "stdout",
     "output_type": "stream",
     "text": [
      "['a', 'e', 'i', 'o', 'u']\n"
     ]
    }
   ],
   "source": [
    "#sets\n",
    "set=(['a','e','i','o','u'])\n",
    "print(set)"
   ]
  },
  {
   "cell_type": "code",
   "execution_count": 18,
   "id": "19b2db11",
   "metadata": {},
   "outputs": [
    {
     "name": "stdout",
     "output_type": "stream",
     "text": [
      "cricket\n",
      "tennis\n",
      "volleyball\n"
     ]
    }
   ],
   "source": [
    "#tuples\n",
    "tuples=('cricket','tennis','volleyball')\n",
    "print(tuples[0])\n",
    "print(tuples[1])\n",
    "print(tuples[2])"
   ]
  },
  {
   "cell_type": "code",
   "execution_count": 24,
   "id": "fd73cf91",
   "metadata": {},
   "outputs": [
    {
     "name": "stdout",
     "output_type": "stream",
     "text": [
      "akshay\n"
     ]
    }
   ],
   "source": [
    "#dictionary\n",
    "dic={\"name\":\"akshay\",\"age\":25,\"film\":\"chennai\"}\n",
    "print(dic['name'])"
   ]
  },
  {
   "cell_type": "code",
   "execution_count": 82,
   "id": "23c33774",
   "metadata": {},
   "outputs": [
    {
     "data": {
      "text/plain": [
       "'hi my name is akshay.....'"
      ]
     },
     "execution_count": 82,
     "metadata": {},
     "output_type": "execute_result"
    }
   ],
   "source": [
    "#read a file append and write\n",
    "file1=open(\"python1.txt\",\"w+\")\n",
    "file1.write(\"hi my name is akshay\")\n",
    "file1=open(\"python1.txt\",\"a+\")\n",
    "file1.write(\".....\")\n",
    "file1=open(\"python1.txt\",\"r+\")\n",
    "file1.read()\n",
    "\n",
    "\n",
    "\n",
    "\n",
    "\n"
   ]
  },
  {
   "cell_type": "code",
   "execution_count": null,
   "id": "8168d2bb",
   "metadata": {},
   "outputs": [],
   "source": []
  },
  {
   "cell_type": "code",
   "execution_count": null,
   "id": "b7929e42",
   "metadata": {},
   "outputs": [],
   "source": []
  },
  {
   "cell_type": "code",
   "execution_count": null,
   "id": "76ef94fe",
   "metadata": {},
   "outputs": [],
   "source": []
  }
 ],
 "metadata": {
  "kernelspec": {
   "display_name": "Python 3",
   "language": "python",
   "name": "python3"
  },
  "language_info": {
   "codemirror_mode": {
    "name": "ipython",
    "version": 3
   },
   "file_extension": ".py",
   "mimetype": "text/x-python",
   "name": "python",
   "nbconvert_exporter": "python",
   "pygments_lexer": "ipython3",
   "version": "3.8.8"
  }
 },
 "nbformat": 4,
 "nbformat_minor": 5
}
